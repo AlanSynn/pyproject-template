{
 "cells": [
  {
   "cell_type": "code",
   "execution_count": 1,
   "metadata": {},
   "outputs": [],
   "source": [
    "# %load ../firstcell.py\n",
    "%load_ext autoreload\n",
    "%autoreload 2\n",
    "%matplotlib inline"
   ]
  },
  {
   "cell_type": "code",
   "execution_count": 40,
   "metadata": {},
   "outputs": [],
   "source": [
    "from functools import reduce"
   ]
  },
  {
   "cell_type": "code",
   "execution_count": 41,
   "metadata": {},
   "outputs": [],
   "source": [
    "def deep_get(dictionary, keys, default=None):\n",
    "    \"\"\"Get the value from a dictionary using a list of keys.\n",
    "\n",
    "    Args:\n",
    "        dictionary (dict): The dictionary to retrieve the value from.\n",
    "        keys (str): The keys to use, separated by periods.\n",
    "        default: The default value to return if the key does not exist.\n",
    "\n",
    "    Returns:\n",
    "        The value from the dictionary at the specified keys, or the default value if the key does not exist.\n",
    "    \"\"\"\n",
    "    return reduce(\n",
    "        lambda d, key: d.get(key, default) if isinstance(d, dict) else default,\n",
    "        keys.split(\".\"),\n",
    "        dictionary,\n",
    "    )"
   ]
  },
  {
   "cell_type": "code",
   "execution_count": 129,
   "metadata": {},
   "outputs": [],
   "source": [
    "class DotDict(dict):\n",
    "    \"\"\"A dictionary that allows access to its keys as if they were attributes.\n",
    "\n",
    "    Args:\n",
    "        value (dict): The dict object to access.\n",
    "\n",
    "    \"\"\"\n",
    "\n",
    "    def __init__(self, value=None):\n",
    "        if value is None:\n",
    "            pass\n",
    "        elif isinstance(value, dict):\n",
    "            for key in value:\n",
    "                self.__setitem__(key, value[key])\n",
    "        else:\n",
    "            raise TypeError(\"expected dict\")\n",
    "\n",
    "    def __getitem__(self, key):\n",
    "        value = self.get(key, None)\n",
    "        return value\n",
    "\n",
    "    def __setitem__(self, key, value):\n",
    "        if isinstance(value, dict) and not isinstance(value, DotDict):\n",
    "            value = DotDict(value)\n",
    "        if isinstance(value, list) and len(value) == 1 and isinstance(value[0], dict):\n",
    "            value = DotDict(value[0])\n",
    "        if (\n",
    "            isinstance(value, list)\n",
    "            and len(value) > 1\n",
    "            and all(isinstance(v, dict) for v in value)\n",
    "        ):\n",
    "            value = DotDict({k: v for d in value for k, v in d.items()})\n",
    "        super(DotDict, self).__setitem__(key, value)\n",
    "\n",
    "    def __getstate__(self):\n",
    "        return self.__dict__\n",
    "\n",
    "    def __setstate__(self, d):\n",
    "        self.__dict__.update(d)\n",
    "\n",
    "    __setattr__, __getattr__ = __setitem__, __getitem__"
   ]
  },
  {
   "cell_type": "code",
   "execution_count": 130,
   "metadata": {},
   "outputs": [],
   "source": [
    "def deep_set(dictionary, keys, value):\n",
    "    \"\"\"Set a value in a dictionary using a list of keys.\n",
    "\n",
    "    Args:\n",
    "        dictionary (dict): The dictionary to set the value in.\n",
    "        keys (str): The keys to use, separated by periods.\n",
    "        value: The value to set.\n",
    "    \"\"\"\n",
    "    keys = keys.split(\".\")\n",
    "    for key in keys[:-1]:\n",
    "        if key in dictionary and not isinstance(dictionary[key], dict):\n",
    "            raise TypeError(f\"Expected dict type at key {key} in {dictionary}\")\n",
    "\n",
    "        if key not in dictionary:\n",
    "            dictionary[key] = {}\n",
    "\n",
    "        dictionary = dictionary[key]\n",
    "\n",
    "    dictionary[keys[-1]] = value"
   ]
  },
  {
   "cell_type": "code",
   "execution_count": 131,
   "metadata": {},
   "outputs": [],
   "source": [
    "car = {\"brand\": \"Ford\", \"model\": \"Mustang\", \"year\": 1964}"
   ]
  },
  {
   "cell_type": "code",
   "execution_count": 132,
   "metadata": {},
   "outputs": [
    {
     "name": "stdout",
     "output_type": "stream",
     "text": [
      "{'brand': 'Ford', 'model': 'Bronco', 'year': 1964}\n"
     ]
    }
   ],
   "source": [
    "deep_set(car, \"model\", \"Bronco\")\n",
    "print(car)"
   ]
  },
  {
   "cell_type": "code",
   "execution_count": 133,
   "metadata": {},
   "outputs": [
    {
     "name": "stdout",
     "output_type": "stream",
     "text": [
      "Expected dict type at key model in {'brand': 'Ford', 'model': 'Bronco', 'year': 1964}\n",
      "Bronco\n",
      "{'brand': 'Ford', 'model': 'Bronco', 'year': 1964}\n"
     ]
    }
   ],
   "source": [
    "# deep_set(car, \"color\", \"red\")\n",
    "try:\n",
    "    deep_set(car, \"model.color\", \"blue\")\n",
    "except TypeError as e:\n",
    "    print(e)\n",
    "\n",
    "y = deep_get(car, \"model\")\n",
    "\n",
    "print(y)\n",
    "print(car)"
   ]
  },
  {
   "cell_type": "code",
   "execution_count": 134,
   "metadata": {},
   "outputs": [],
   "source": [
    "new_car = {\n",
    "    \"brand\": \"Ford\",\n",
    "    \"model\": {\n",
    "        \"name\": \"Mustang\",\n",
    "    },\n",
    "    \"year\": 1964,\n",
    "}"
   ]
  },
  {
   "cell_type": "code",
   "execution_count": 135,
   "metadata": {},
   "outputs": [
    {
     "name": "stdout",
     "output_type": "stream",
     "text": [
      "{'name': 'Mustang', 'color': 'blue'}\n",
      "{'brand': 'Ford', 'model': {'name': 'Mustang', 'color': 'blue'}, 'year': 1964}\n",
      "blue\n"
     ]
    }
   ],
   "source": [
    "deep_set(new_car, \"model.color\", \"blue\")\n",
    "\n",
    "y = deep_get(new_car, \"model\")\n",
    "\n",
    "print(y)\n",
    "print(new_car)\n",
    "\n",
    "z = deep_get(new_car, \"model.color\")\n",
    "\n",
    "print(z)"
   ]
  },
  {
   "cell_type": "code",
   "execution_count": 138,
   "metadata": {},
   "outputs": [],
   "source": [
    "def test_dot_dict():\n",
    "    d = DotDict({\"a\": 1, \"b\": {\"c\": 2}})\n",
    "    assert d.a == 1\n",
    "    assert d.b.c == 2  # pyright: ignore[reportOptionalMemberAccess]\n",
    "    d.b.c = 3  # pyright: ignore[reportOptionalMemberAccess]\n",
    "    assert d.b.c == 3  # pyright: ignore[reportOptionalMemberAccess]\n",
    "\n",
    "\n",
    "def test_deep_get():\n",
    "    d = {\"a\": {\"b\": {\"c\": 1}}}\n",
    "    assert deep_get(d, \"a.b.c\") == 1\n",
    "    assert deep_get(d, \"a.b.d\") is None\n",
    "    assert deep_get(d, \"a.b.d\", default=2) == 2\n",
    "\n",
    "\n",
    "def test_deep_set():\n",
    "    d = {}\n",
    "    deep_set(d, \"a.b.c\", 1)\n",
    "    assert d == {\"a\": {\"b\": {\"c\": 1}}}\n",
    "    deep_set(d, \"a.b.d\", 2)\n",
    "    assert d == {\"a\": {\"b\": {\"c\": 1, \"d\": 2}}}\n",
    "    deep_set(d, \"a.b\", {\"e\": 3})\n",
    "    assert d == {\"a\": {\"b\": {\"e\": 3}}}"
   ]
  },
  {
   "cell_type": "code",
   "execution_count": 139,
   "metadata": {},
   "outputs": [],
   "source": [
    "test_dot_dict()\n",
    "test_deep_get()\n",
    "test_deep_set()"
   ]
  }
 ],
 "metadata": {
  "kernelspec": {
   "display_name": "Python 3",
   "language": "python",
   "name": "python3"
  },
  "language_info": {
   "codemirror_mode": {
    "name": "ipython",
    "version": 3
   },
   "file_extension": ".py",
   "mimetype": "text/x-python",
   "name": "python",
   "nbconvert_exporter": "python",
   "pygments_lexer": "ipython3",
   "version": "3.10.12"
  },
  "orig_nbformat": 4
 },
 "nbformat": 4,
 "nbformat_minor": 2
}
